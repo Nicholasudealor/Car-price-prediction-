{
 "cells": [
  {
   "cell_type": "markdown",
   "id": "1d5729e3",
   "metadata": {},
   "source": [
    "# About Dataset;\n",
    "\n",
    "This datasets is related to red variants of the Portuguese \"Vinho Verde\" wine.The dataset describes the amount of various chemicals present in wine and their effect on it's quality. The datasets can be viewed as classification or regression tasks. The classes are ordered and not balanced (e.g. there are much more normal wines than excellent or poor ones).Your task is to predict the quality of wine using the given data.\n",
    "\n",
    "A simple yet challenging project, to anticipate the quality of wine.\n",
    "The complexity arises due to the fact that the dataset has fewer samples, & is highly imbalanced.\n",
    "Can you overcome these obstacles & build a good predictive model to classify them?\n",
    "\n",
    "This data frame contains the following columns:\n",
    "\n",
    "Input variables (based on physicochemical tests):\\\n",
    "\n",
    "1 - fixed acidity\\\n",
    "\n",
    "2 - volatile acidity\\\n",
    "\n",
    "3 - citric acid\\\n",
    "\n",
    "4 - residual sugar\\\n",
    "\n",
    "5 - chlorides\\\n",
    "\n",
    "6 - free sulfur dioxide\\\n",
    "\n",
    "7 - total sulfur dioxide\\\n",
    "\n",
    "8 - density\\\n",
    "\n",
    "9 - pH\\\n",
    "\n",
    "10 - sulphates\\\n",
    "\n",
    "11 - alcohol\\\n",
    "Output variable (based on sensory data):\\\n",
    "\n",
    "12 - quality (score between 0 and 10)\n",
    "\n",
    "if the quality is 0 that means the prediction is not good\n",
    "\n",
    "if is 1 that means goood"
   ]
  },
  {
   "cell_type": "markdown",
   "id": "7e859e7d",
   "metadata": {},
   "source": [
    "# work flow\n",
    "\n",
    "-wine data\n",
    "\n",
    "-data analysis\n",
    "\n",
    "-data pre processing\n",
    "\n",
    "-train test split\n",
    "\n",
    "-use 0ne classification Algorithms (Random Forest model)\n",
    "\n",
    "we then feed the new data into the Trained Random Forest model so it can predict the Quality of the wine"
   ]
  },
  {
   "cell_type": "markdown",
   "id": "eb5a5cca",
   "metadata": {},
   "source": [
    "# importing the dependencies"
   ]
  },
  {
   "cell_type": "code",
   "execution_count": 85,
   "id": "3c8cc306",
   "metadata": {},
   "outputs": [],
   "source": [
    "import numpy as np\n",
    "import pandas as pd  \n",
    "\n",
    "\n"
   ]
  },
  {
   "cell_type": "markdown",
   "id": "46210c43",
   "metadata": {},
   "source": [
    "# Data collection"
   ]
  },
  {
   "cell_type": "code",
   "execution_count": 86,
   "id": "9e62a55b",
   "metadata": {},
   "outputs": [],
   "source": [
    "#we loading the dataframe to pandas dataframe\n",
    "wine_dataset = pd.read_csv(\"WineQT.csv\") \n"
   ]
  },
  {
   "cell_type": "code",
   "execution_count": 87,
   "id": "717dccb7",
   "metadata": {},
   "outputs": [
    {
     "data": {
      "text/html": [
       "<div>\n",
       "<style scoped>\n",
       "    .dataframe tbody tr th:only-of-type {\n",
       "        vertical-align: middle;\n",
       "    }\n",
       "\n",
       "    .dataframe tbody tr th {\n",
       "        vertical-align: top;\n",
       "    }\n",
       "\n",
       "    .dataframe thead th {\n",
       "        text-align: right;\n",
       "    }\n",
       "</style>\n",
       "<table border=\"1\" class=\"dataframe\">\n",
       "  <thead>\n",
       "    <tr style=\"text-align: right;\">\n",
       "      <th></th>\n",
       "      <th>fixed acidity</th>\n",
       "      <th>volatile acidity</th>\n",
       "      <th>citric acid</th>\n",
       "      <th>residual sugar</th>\n",
       "      <th>chlorides</th>\n",
       "      <th>free sulfur dioxide</th>\n",
       "      <th>total sulfur dioxide</th>\n",
       "      <th>density</th>\n",
       "      <th>pH</th>\n",
       "      <th>sulphates</th>\n",
       "      <th>alcohol</th>\n",
       "      <th>quality</th>\n",
       "      <th>Id</th>\n",
       "    </tr>\n",
       "  </thead>\n",
       "  <tbody>\n",
       "    <tr>\n",
       "      <th>0</th>\n",
       "      <td>7.4</td>\n",
       "      <td>0.70</td>\n",
       "      <td>0.00</td>\n",
       "      <td>1.9</td>\n",
       "      <td>0.076</td>\n",
       "      <td>11.0</td>\n",
       "      <td>34.0</td>\n",
       "      <td>0.9978</td>\n",
       "      <td>3.51</td>\n",
       "      <td>0.56</td>\n",
       "      <td>9.4</td>\n",
       "      <td>5</td>\n",
       "      <td>0</td>\n",
       "    </tr>\n",
       "    <tr>\n",
       "      <th>1</th>\n",
       "      <td>7.8</td>\n",
       "      <td>0.88</td>\n",
       "      <td>0.00</td>\n",
       "      <td>2.6</td>\n",
       "      <td>0.098</td>\n",
       "      <td>25.0</td>\n",
       "      <td>67.0</td>\n",
       "      <td>0.9968</td>\n",
       "      <td>3.20</td>\n",
       "      <td>0.68</td>\n",
       "      <td>9.8</td>\n",
       "      <td>5</td>\n",
       "      <td>1</td>\n",
       "    </tr>\n",
       "    <tr>\n",
       "      <th>2</th>\n",
       "      <td>7.8</td>\n",
       "      <td>0.76</td>\n",
       "      <td>0.04</td>\n",
       "      <td>2.3</td>\n",
       "      <td>0.092</td>\n",
       "      <td>15.0</td>\n",
       "      <td>54.0</td>\n",
       "      <td>0.9970</td>\n",
       "      <td>3.26</td>\n",
       "      <td>0.65</td>\n",
       "      <td>9.8</td>\n",
       "      <td>5</td>\n",
       "      <td>2</td>\n",
       "    </tr>\n",
       "    <tr>\n",
       "      <th>3</th>\n",
       "      <td>11.2</td>\n",
       "      <td>0.28</td>\n",
       "      <td>0.56</td>\n",
       "      <td>1.9</td>\n",
       "      <td>0.075</td>\n",
       "      <td>17.0</td>\n",
       "      <td>60.0</td>\n",
       "      <td>0.9980</td>\n",
       "      <td>3.16</td>\n",
       "      <td>0.58</td>\n",
       "      <td>9.8</td>\n",
       "      <td>6</td>\n",
       "      <td>3</td>\n",
       "    </tr>\n",
       "    <tr>\n",
       "      <th>4</th>\n",
       "      <td>7.4</td>\n",
       "      <td>0.70</td>\n",
       "      <td>0.00</td>\n",
       "      <td>1.9</td>\n",
       "      <td>0.076</td>\n",
       "      <td>11.0</td>\n",
       "      <td>34.0</td>\n",
       "      <td>0.9978</td>\n",
       "      <td>3.51</td>\n",
       "      <td>0.56</td>\n",
       "      <td>9.4</td>\n",
       "      <td>5</td>\n",
       "      <td>4</td>\n",
       "    </tr>\n",
       "  </tbody>\n",
       "</table>\n",
       "</div>"
      ],
      "text/plain": [
       "   fixed acidity  volatile acidity  citric acid  residual sugar  chlorides  \\\n",
       "0            7.4              0.70         0.00             1.9      0.076   \n",
       "1            7.8              0.88         0.00             2.6      0.098   \n",
       "2            7.8              0.76         0.04             2.3      0.092   \n",
       "3           11.2              0.28         0.56             1.9      0.075   \n",
       "4            7.4              0.70         0.00             1.9      0.076   \n",
       "\n",
       "   free sulfur dioxide  total sulfur dioxide  density    pH  sulphates  \\\n",
       "0                 11.0                  34.0   0.9978  3.51       0.56   \n",
       "1                 25.0                  67.0   0.9968  3.20       0.68   \n",
       "2                 15.0                  54.0   0.9970  3.26       0.65   \n",
       "3                 17.0                  60.0   0.9980  3.16       0.58   \n",
       "4                 11.0                  34.0   0.9978  3.51       0.56   \n",
       "\n",
       "   alcohol  quality  Id  \n",
       "0      9.4        5   0  \n",
       "1      9.8        5   1  \n",
       "2      9.8        5   2  \n",
       "3      9.8        6   3  \n",
       "4      9.4        5   4  "
      ]
     },
     "execution_count": 87,
     "metadata": {},
     "output_type": "execute_result"
    }
   ],
   "source": [
    "#checking the head\n",
    "wine_dataset.head()\n",
    "\n",
    "#using this data,  it should predict the quality of the wine"
   ]
  },
  {
   "cell_type": "code",
   "execution_count": 88,
   "id": "14e4a193",
   "metadata": {},
   "outputs": [
    {
     "ename": "SyntaxError",
     "evalue": "invalid syntax (2912484545.py, line 1)",
     "output_type": "error",
     "traceback": [
      "\u001b[1;36m  Cell \u001b[1;32mIn[88], line 1\u001b[1;36m\u001b[0m\n\u001b[1;33m    note:\u001b[0m\n\u001b[1;37m         ^\u001b[0m\n\u001b[1;31mSyntaxError\u001b[0m\u001b[1;31m:\u001b[0m invalid syntax\n"
     ]
    }
   ],
   "source": [
    "note:\n",
    "we will be training our machine learning model with this data and it should give us the quality of the wine"
   ]
  },
  {
   "cell_type": "code",
   "execution_count": null,
   "id": "3adc23a5",
   "metadata": {},
   "outputs": [],
   "source": [
    "#checking the number of rows and coloums\n",
    "wine_dataset.shape"
   ]
  },
  {
   "cell_type": "code",
   "execution_count": null,
   "id": "bda115d3",
   "metadata": {},
   "outputs": [],
   "source": [
    "#checking for missing values\n",
    "wine_dataset.isnull().sum()"
   ]
  },
  {
   "cell_type": "markdown",
   "id": "73d06547",
   "metadata": {},
   "source": [
    "# data analysis and visulaization"
   ]
  },
  {
   "cell_type": "code",
   "execution_count": null,
   "id": "4b758aba",
   "metadata": {},
   "outputs": [],
   "source": [
    "#satiscal measures of the dataset\n",
    "wine_dataset.describe()"
   ]
  },
  {
   "cell_type": "code",
   "execution_count": null,
   "id": "81e12086",
   "metadata": {},
   "outputs": [],
   "source": [
    "#lets check the number of points  for each quality (we are making use of the seaborn)"
   ]
  },
  {
   "cell_type": "code",
   "execution_count": null,
   "id": "47b0156f",
   "metadata": {},
   "outputs": [],
   "source": [
    "import seaborn as sns "
   ]
  },
  {
   "cell_type": "code",
   "execution_count": null,
   "id": "50e9133e",
   "metadata": {},
   "outputs": [],
   "source": [
    "sns.catplot(x='quality', data = wine_dataset, kind ='count')"
   ]
  },
  {
   "cell_type": "raw",
   "id": "a09d97f6",
   "metadata": {},
   "source": [
    "# so we have Six quality values present in the dataset"
   ]
  },
  {
   "cell_type": "code",
   "execution_count": null,
   "id": "bdffe2d3",
   "metadata": {},
   "outputs": [],
   "source": []
  },
  {
   "cell_type": "markdown",
   "id": "45bcb9cb",
   "metadata": {},
   "source": [
    "# lets just compare anyrandom coloums"
   ]
  },
  {
   "cell_type": "code",
   "execution_count": null,
   "id": "981c010d",
   "metadata": {},
   "outputs": [],
   "source": [
    "# volotie acidity vs quality   (here we are comparing to know the relationship between them)"
   ]
  },
  {
   "cell_type": "code",
   "execution_count": null,
   "id": "51379e18",
   "metadata": {},
   "outputs": [],
   "source": [
    "import matplotlib.pyplot as plt "
   ]
  },
  {
   "cell_type": "code",
   "execution_count": null,
   "id": "a09f6c48",
   "metadata": {},
   "outputs": [],
   "source": [
    "# volotie acidity vs quality\n",
    "plot = plt.figure(figsize=(4,5))\n",
    "sns.barplot(x= 'quality', y= 'volatile acidity', data = wine_dataset);"
   ]
  },
  {
   "cell_type": "code",
   "execution_count": null,
   "id": "f6a7a137",
   "metadata": {},
   "outputs": [],
   "source": [
    "#as you can see if the volatile acidity is high, \n",
    "#  then the quality of the wine is less\n",
    "\n",
    "\n",
    "#if the quality is high then the volatile acidity will be low\n",
    "\n",
    "#they are inversile proposional to each other"
   ]
  },
  {
   "cell_type": "code",
   "execution_count": null,
   "id": "246d74bd",
   "metadata": {},
   "outputs": [],
   "source": []
  },
  {
   "cell_type": "code",
   "execution_count": null,
   "id": "4e108217",
   "metadata": {},
   "outputs": [],
   "source": []
  },
  {
   "cell_type": "code",
   "execution_count": null,
   "id": "1b7971f6",
   "metadata": {},
   "outputs": [],
   "source": [
    "\n",
    "# \"citric acid acidity\"    vs \"quality \"\n",
    "plot = plt.figure(figsize=(5,5))\n",
    "sns.barplot(x= 'quality', y= 'citric acid', data = wine_dataset)"
   ]
  },
  {
   "cell_type": "code",
   "execution_count": null,
   "id": "5dfa5ad0",
   "metadata": {},
   "outputs": [],
   "source": [
    "#this is opposite to our first graph\n",
    "\n",
    "#here if the \"citric acid\" is high then we are having high  Quality  of Wine\n",
    "\n",
    "#if the citric acid is low then quality will be low\n",
    "\n"
   ]
  },
  {
   "cell_type": "code",
   "execution_count": null,
   "id": "2349e82f",
   "metadata": {},
   "outputs": [],
   "source": []
  },
  {
   "cell_type": "markdown",
   "id": "330cd743",
   "metadata": {},
   "source": [
    "# You can use others to test the quality of the wine "
   ]
  },
  {
   "cell_type": "code",
   "execution_count": null,
   "id": "ef316095",
   "metadata": {},
   "outputs": [],
   "source": []
  },
  {
   "cell_type": "markdown",
   "id": "48a2675e",
   "metadata": {},
   "source": [
    "# correlation"
   ]
  },
  {
   "cell_type": "raw",
   "id": "2d1ffb8c",
   "metadata": {},
   "source": [
    "types; \n",
    "1) positive correlation \n",
    "\n",
    "2) negative correlation"
   ]
  },
  {
   "cell_type": "code",
   "execution_count": null,
   "id": "2cf471f6",
   "metadata": {},
   "outputs": [],
   "source": [
    "correlation = wine_dataset.corr()"
   ]
  },
  {
   "cell_type": "code",
   "execution_count": null,
   "id": "0a37ef8b",
   "metadata": {},
   "outputs": [],
   "source": [
    "#constructing a heatmap to understand the correlation\n",
    "plt.figure(figsize = (10,10))\n",
    "\n",
    "sns.heatmap(correlation, cbar=True, square= True, fmt = '.1f', annot = True, annot_kws={'size':8}, cmap = 'Blues')"
   ]
  },
  {
   "cell_type": "raw",
   "id": "f83ad70c",
   "metadata": {},
   "source": [
    "+ tells you the coloum that are positively correlated \n",
    "\n",
    "- tells you coloums that are negatively correlated "
   ]
  },
  {
   "cell_type": "code",
   "execution_count": null,
   "id": "aab13e91",
   "metadata": {},
   "outputs": [],
   "source": []
  },
  {
   "cell_type": "markdown",
   "id": "f2415280",
   "metadata": {},
   "source": [
    "# data preprocessing "
   ]
  },
  {
   "cell_type": "code",
   "execution_count": null,
   "id": "59fd7c44",
   "metadata": {},
   "outputs": [],
   "source": [
    "#we will be dropping two coloumns    \n",
    "X = wine_dataset.drop(['quality', \"Id\"], axis=1)  \n"
   ]
  },
  {
   "cell_type": "code",
   "execution_count": null,
   "id": "b2a824f9",
   "metadata": {},
   "outputs": [],
   "source": [
    "print(X)"
   ]
  },
  {
   "cell_type": "markdown",
   "id": "14bfcb3c",
   "metadata": {},
   "source": []
  },
  {
   "cell_type": "code",
   "execution_count": null,
   "id": "30f75bc2",
   "metadata": {},
   "outputs": [],
   "source": [
    "Y = wine_dataset['quality'] #we need to replace the values with a lambda funtion"
   ]
  },
  {
   "cell_type": "code",
   "execution_count": null,
   "id": "8a44b0c5",
   "metadata": {},
   "outputs": [],
   "source": [
    "Y = wine_dataset['quality'].apply(lambda y_value: 1 if y_value>=7 else 0)   #lambda to replace the values"
   ]
  },
  {
   "cell_type": "code",
   "execution_count": null,
   "id": "00e561a3",
   "metadata": {},
   "outputs": [],
   "source": [
    "print(Y)"
   ]
  },
  {
   "cell_type": "markdown",
   "id": "23274506",
   "metadata": {},
   "source": [
    "# Training and testing dataset"
   ]
  },
  {
   "cell_type": "code",
   "execution_count": null,
   "id": "cc6039ee",
   "metadata": {},
   "outputs": [],
   "source": [
    "from sklearn.model_selection import train_test_split\n",
    "\n",
    "X_train, X_test, Y_train, Y_test = train_test_split(X,Y, test_size=0.2, random_state=2)"
   ]
  },
  {
   "cell_type": "code",
   "execution_count": null,
   "id": "bf477e35",
   "metadata": {},
   "outputs": [],
   "source": [
    "print(Y.shape, Y_train.shape, Y_test.shape)"
   ]
  },
  {
   "cell_type": "code",
   "execution_count": null,
   "id": "23558636",
   "metadata": {},
   "outputs": [],
   "source": []
  },
  {
   "cell_type": "markdown",
   "id": "f5902148",
   "metadata": {},
   "source": [
    "# Model training\n",
    "we are using random forest model\n"
   ]
  },
  {
   "cell_type": "code",
   "execution_count": null,
   "id": "0ffa446d",
   "metadata": {},
   "outputs": [],
   "source": [
    "from sklearn.ensemble import RandomForestClassifier\n",
    "\n",
    "model = RandomForestClassifier()"
   ]
  },
  {
   "cell_type": "code",
   "execution_count": null,
   "id": "2391b08e",
   "metadata": {},
   "outputs": [],
   "source": [
    "#fitting our data\n",
    "model.fit(X_train, Y_train)"
   ]
  },
  {
   "cell_type": "markdown",
   "id": "84c25746",
   "metadata": {},
   "source": [
    "# model evaluation\n",
    "\n",
    "model accuracy"
   ]
  },
  {
   "cell_type": "code",
   "execution_count": null,
   "id": "685c6a7f",
   "metadata": {},
   "outputs": [],
   "source": [
    "from sklearn.metrics import accuracy_score"
   ]
  },
  {
   "cell_type": "code",
   "execution_count": null,
   "id": "3032ed5a",
   "metadata": {},
   "outputs": [],
   "source": [
    "X_test_prediction = model.predict(X_test)"
   ]
  },
  {
   "cell_type": "code",
   "execution_count": null,
   "id": "c96ed8eb",
   "metadata": {},
   "outputs": [],
   "source": [
    "test_data_accuracy = accuracy_score(X_test_prediction, Y_test)"
   ]
  },
  {
   "cell_type": "code",
   "execution_count": null,
   "id": "203378b2",
   "metadata": {},
   "outputs": [],
   "source": [
    "print ('Accuracy:', test_data_accuracy)"
   ]
  },
  {
   "cell_type": "markdown",
   "id": "a506837a",
   "metadata": {},
   "source": [
    "# building a predictive system"
   ]
  },
  {
   "cell_type": "code",
   "execution_count": null,
   "id": "e0136a8c",
   "metadata": {},
   "outputs": [],
   "source": [
    "inpute_data = (7.9,0.43,0.21,1.6,0.106,10.0,37.0,0.9966,3.17,0.91,9.5)"
   ]
  },
  {
   "cell_type": "code",
   "execution_count": null,
   "id": "e13abc43",
   "metadata": {},
   "outputs": [],
   "source": [
    "#changing the input data to a numpy array\n",
    "input_data_as_numpy_array = np.asarray(inpute_data)"
   ]
  },
  {
   "cell_type": "code",
   "execution_count": null,
   "id": "01332471",
   "metadata": {},
   "outputs": [],
   "source": [
    "#reshape the data as we are predicting the label for one instance\n",
    "input_data_reshaped = input_data_as_numpy_array.reshape(1,-1)"
   ]
  },
  {
   "cell_type": "code",
   "execution_count": null,
   "id": "04cd219b",
   "metadata": {},
   "outputs": [],
   "source": [
    "prediction = model.predict(input_data_reshaped)"
   ]
  },
  {
   "cell_type": "code",
   "execution_count": null,
   "id": "5e8ac7f9",
   "metadata": {},
   "outputs": [],
   "source": [
    "print(prediction)"
   ]
  },
  {
   "cell_type": "code",
   "execution_count": null,
   "id": "579f7054",
   "metadata": {},
   "outputs": [],
   "source": []
  },
  {
   "cell_type": "code",
   "execution_count": null,
   "id": "fa1cd5d6",
   "metadata": {},
   "outputs": [],
   "source": []
  },
  {
   "cell_type": "code",
   "execution_count": null,
   "id": "ea0e23d4",
   "metadata": {},
   "outputs": [],
   "source": []
  },
  {
   "cell_type": "code",
   "execution_count": null,
   "id": "16da7e92",
   "metadata": {},
   "outputs": [],
   "source": []
  },
  {
   "cell_type": "code",
   "execution_count": null,
   "id": "35e5a68c",
   "metadata": {},
   "outputs": [],
   "source": []
  },
  {
   "cell_type": "code",
   "execution_count": null,
   "id": "2bd3a504",
   "metadata": {},
   "outputs": [],
   "source": []
  },
  {
   "cell_type": "code",
   "execution_count": null,
   "id": "7c65124f",
   "metadata": {},
   "outputs": [],
   "source": []
  },
  {
   "cell_type": "code",
   "execution_count": null,
   "id": "44736890",
   "metadata": {},
   "outputs": [],
   "source": []
  },
  {
   "cell_type": "code",
   "execution_count": null,
   "id": "f5636dc0",
   "metadata": {},
   "outputs": [],
   "source": []
  },
  {
   "cell_type": "code",
   "execution_count": null,
   "id": "c27deb7a",
   "metadata": {},
   "outputs": [],
   "source": []
  },
  {
   "cell_type": "code",
   "execution_count": null,
   "id": "0ade157f",
   "metadata": {},
   "outputs": [],
   "source": []
  },
  {
   "cell_type": "code",
   "execution_count": null,
   "id": "02467c9d",
   "metadata": {},
   "outputs": [],
   "source": []
  },
  {
   "cell_type": "code",
   "execution_count": null,
   "id": "effbcdc9",
   "metadata": {},
   "outputs": [],
   "source": []
  },
  {
   "cell_type": "code",
   "execution_count": null,
   "id": "6dbc69b2",
   "metadata": {},
   "outputs": [],
   "source": []
  },
  {
   "cell_type": "code",
   "execution_count": null,
   "id": "b192384b",
   "metadata": {},
   "outputs": [],
   "source": []
  },
  {
   "cell_type": "code",
   "execution_count": null,
   "id": "296000f4",
   "metadata": {},
   "outputs": [],
   "source": []
  },
  {
   "cell_type": "code",
   "execution_count": null,
   "id": "598ddb37",
   "metadata": {},
   "outputs": [],
   "source": []
  },
  {
   "cell_type": "code",
   "execution_count": null,
   "id": "74ae98bc",
   "metadata": {},
   "outputs": [],
   "source": []
  },
  {
   "cell_type": "code",
   "execution_count": null,
   "id": "ec83c446",
   "metadata": {},
   "outputs": [],
   "source": []
  },
  {
   "cell_type": "code",
   "execution_count": null,
   "id": "d16e60ed",
   "metadata": {},
   "outputs": [],
   "source": []
  },
  {
   "cell_type": "code",
   "execution_count": null,
   "id": "50fcef7c",
   "metadata": {},
   "outputs": [],
   "source": []
  },
  {
   "cell_type": "code",
   "execution_count": null,
   "id": "3fefdb90",
   "metadata": {},
   "outputs": [],
   "source": []
  },
  {
   "cell_type": "code",
   "execution_count": null,
   "id": "ec615c5b",
   "metadata": {},
   "outputs": [],
   "source": []
  },
  {
   "cell_type": "code",
   "execution_count": null,
   "id": "f251e60b",
   "metadata": {},
   "outputs": [],
   "source": []
  },
  {
   "cell_type": "code",
   "execution_count": null,
   "id": "27f51bf5",
   "metadata": {},
   "outputs": [],
   "source": []
  },
  {
   "cell_type": "code",
   "execution_count": null,
   "id": "0e85d3f9",
   "metadata": {},
   "outputs": [],
   "source": []
  },
  {
   "cell_type": "code",
   "execution_count": null,
   "id": "0ceadb00",
   "metadata": {},
   "outputs": [],
   "source": []
  },
  {
   "cell_type": "code",
   "execution_count": null,
   "id": "1f5d14ef",
   "metadata": {},
   "outputs": [],
   "source": []
  },
  {
   "cell_type": "code",
   "execution_count": null,
   "id": "03dfec20",
   "metadata": {},
   "outputs": [],
   "source": []
  }
 ],
 "metadata": {
  "kernelspec": {
   "display_name": "Python 3 (ipykernel)",
   "language": "python",
   "name": "python3"
  },
  "language_info": {
   "codemirror_mode": {
    "name": "ipython",
    "version": 3
   },
   "file_extension": ".py",
   "mimetype": "text/x-python",
   "name": "python",
   "nbconvert_exporter": "python",
   "pygments_lexer": "ipython3",
   "version": "3.11.4"
  }
 },
 "nbformat": 4,
 "nbformat_minor": 5
}
